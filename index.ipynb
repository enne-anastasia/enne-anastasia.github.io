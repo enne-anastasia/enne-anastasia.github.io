{
  "cells": [
    {
      "cell_type": "raw",
      "metadata": {},
      "source": [
        "---\n",
        "title: \"Hi, I'm Anastasiia Enne\"\n",
        "about:\n",
        "  template: trestles\n",
        "  image: img/avatar.jpg\n",
        "  image-shape: round\n",
        "  links: \n",
        "    - href: https://github.com/enne-anastasia\n",
        "      icon: \"github\"\n",
        "      text: \"Github\"\n",
        "---"
      ],
      "id": "7a65e4e8"
    },
    {
      "cell_type": "markdown",
      "metadata": {},
      "source": [
        "I am a [PhD student](https://ekvv.uni-bielefeld.de/pers_publ/publ/PersonDetail.jsp?personId=356658316) in [Theoretical Biology research group](https://www.uni-bielefeld.de/fakultaeten/biologie/forschung/arbeitsgruppen/theoretical/index.xml) at [Bielefeld University](https://www.uni-bielefeld.de/) working on [consequences for environmental change responses](https://cmsedit.uni-bielefeld.de/fakultaeten/biologie/forschung/arbeitsgruppen/theoretical/research/individualised-niches-in/index.xml).\n",
        "\n",
        "## Education\n",
        "\n",
        "\n",
        "```{html}\n",
        "**Bielefeld University**\n",
        "```\n",
        "\n",
        "\n",
        "| **Bielefeld University**, [Bielefeld, Germany], PhD student | May 2022 -- present |\n"
      ],
      "id": "c6de9992"
    }
  ],
  "metadata": {
    "kernelspec": {
      "display_name": "Python 3",
      "language": "python",
      "name": "python3"
    }
  },
  "nbformat": 4,
  "nbformat_minor": 5
}